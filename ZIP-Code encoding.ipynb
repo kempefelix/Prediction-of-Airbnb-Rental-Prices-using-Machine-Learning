{
 "cells": [
  {
   "cell_type": "markdown",
   "id": "fc0f3a12300a97d1",
   "metadata": {
    "collapsed": false
   },
   "source": [
    "## Business Intelligence Assignment 2: Data Analytics\n"
   ]
  },
  {
   "cell_type": "markdown",
   "id": "1089ec2c31442041",
   "metadata": {
    "collapsed": false
   },
   "source": [
    "### (3) Geo-spacial Data ZIP-encoding"
   ]
  },
  {
   "cell_type": "code",
   "execution_count": 3,
   "id": "initial_id",
   "metadata": {
    "ExecuteTime": {
     "end_time": "2024-12-14T17:05:17.797870600Z",
     "start_time": "2024-12-14T17:05:17.788870600Z"
    },
    "collapsed": true
   },
   "outputs": [],
   "source": [
    "import geopandas as gpd\n",
    "import pandas as pd\n",
    "from shapely.geometry import Point\n",
    "from shapely.errors import ShapelyDeprecationWarning\n",
    "import warnings\n",
    "import os"
   ]
  },
  {
   "cell_type": "markdown",
   "id": "7ba0d2e965ab1ffa",
   "metadata": {
    "collapsed": false
   },
   "source": [
    "### (a) Loading Data"
   ]
  },
  {
   "cell_type": "code",
   "execution_count": 4,
   "id": "3539b7d54ab25daa",
   "metadata": {
    "ExecuteTime": {
     "end_time": "2024-12-14T18:40:04.522417900Z",
     "start_time": "2024-12-14T18:40:03.828420100Z"
    },
    "collapsed": false
   },
   "outputs": [
    {
     "data": {
      "text/html": [
       "<div>\n",
       "<style scoped>\n",
       "    .dataframe tbody tr th:only-of-type {\n",
       "        vertical-align: middle;\n",
       "    }\n",
       "\n",
       "    .dataframe tbody tr th {\n",
       "        vertical-align: top;\n",
       "    }\n",
       "\n",
       "    .dataframe thead th {\n",
       "        text-align: right;\n",
       "    }\n",
       "</style>\n",
       "<table border=\"1\" class=\"dataframe\">\n",
       "  <thead>\n",
       "    <tr style=\"text-align: right;\">\n",
       "      <th></th>\n",
       "      <th>name</th>\n",
       "      <th>host_id</th>\n",
       "      <th>neighbourhood</th>\n",
       "      <th>latitude</th>\n",
       "      <th>longitude</th>\n",
       "      <th>room_type</th>\n",
       "      <th>price</th>\n",
       "      <th>minimum_nights</th>\n",
       "      <th>number_of_reviews</th>\n",
       "      <th>last_review</th>\n",
       "      <th>reviews_per_month</th>\n",
       "      <th>calculated_host_listings_count</th>\n",
       "      <th>availability_365</th>\n",
       "      <th>number_of_reviews_ltm</th>\n",
       "      <th>city</th>\n",
       "    </tr>\n",
       "    <tr>\n",
       "      <th>id</th>\n",
       "      <th></th>\n",
       "      <th></th>\n",
       "      <th></th>\n",
       "      <th></th>\n",
       "      <th></th>\n",
       "      <th></th>\n",
       "      <th></th>\n",
       "      <th></th>\n",
       "      <th></th>\n",
       "      <th></th>\n",
       "      <th></th>\n",
       "      <th></th>\n",
       "      <th></th>\n",
       "      <th></th>\n",
       "      <th></th>\n",
       "    </tr>\n",
       "  </thead>\n",
       "  <tbody>\n",
       "    <tr>\n",
       "      <th>958</th>\n",
       "      <td>Bright, Modern Garden Unit - 1BR/1BTH</td>\n",
       "      <td>1169</td>\n",
       "      <td>Western Addition</td>\n",
       "      <td>37.77028</td>\n",
       "      <td>-122.43317</td>\n",
       "      <td>Entire home/apt</td>\n",
       "      <td>202</td>\n",
       "      <td>2</td>\n",
       "      <td>383</td>\n",
       "      <td>2023-02-19</td>\n",
       "      <td>2.31</td>\n",
       "      <td>1</td>\n",
       "      <td>128</td>\n",
       "      <td>59</td>\n",
       "      <td>San Francisco</td>\n",
       "    </tr>\n",
       "    <tr>\n",
       "      <th>5858</th>\n",
       "      <td>Creative Sanctuary</td>\n",
       "      <td>8904</td>\n",
       "      <td>Bernal Heights</td>\n",
       "      <td>37.74474</td>\n",
       "      <td>-122.42089</td>\n",
       "      <td>Entire home/apt</td>\n",
       "      <td>235</td>\n",
       "      <td>30</td>\n",
       "      <td>111</td>\n",
       "      <td>2017-08-06</td>\n",
       "      <td>0.66</td>\n",
       "      <td>1</td>\n",
       "      <td>365</td>\n",
       "      <td>0</td>\n",
       "      <td>San Francisco</td>\n",
       "    </tr>\n",
       "    <tr>\n",
       "      <th>8142</th>\n",
       "      <td>Friendly Room Apt. Style -UCSF/USF - San Franc...</td>\n",
       "      <td>21994</td>\n",
       "      <td>Haight Ashbury</td>\n",
       "      <td>37.76555</td>\n",
       "      <td>-122.45213</td>\n",
       "      <td>Private room</td>\n",
       "      <td>56</td>\n",
       "      <td>32</td>\n",
       "      <td>9</td>\n",
       "      <td>2022-10-27</td>\n",
       "      <td>0.09</td>\n",
       "      <td>13</td>\n",
       "      <td>365</td>\n",
       "      <td>1</td>\n",
       "      <td>San Francisco</td>\n",
       "    </tr>\n",
       "  </tbody>\n",
       "</table>\n",
       "</div>"
      ],
      "text/plain": [
       "                                                   name  host_id  \\\n",
       "id                                                                 \n",
       "958               Bright, Modern Garden Unit - 1BR/1BTH     1169   \n",
       "5858                                 Creative Sanctuary     8904   \n",
       "8142  Friendly Room Apt. Style -UCSF/USF - San Franc...    21994   \n",
       "\n",
       "         neighbourhood  latitude  longitude        room_type  price  \\\n",
       "id                                                                    \n",
       "958   Western Addition  37.77028 -122.43317  Entire home/apt    202   \n",
       "5858    Bernal Heights  37.74474 -122.42089  Entire home/apt    235   \n",
       "8142    Haight Ashbury  37.76555 -122.45213     Private room     56   \n",
       "\n",
       "      minimum_nights  number_of_reviews last_review  reviews_per_month  \\\n",
       "id                                                                       \n",
       "958                2                383  2023-02-19               2.31   \n",
       "5858              30                111  2017-08-06               0.66   \n",
       "8142              32                  9  2022-10-27               0.09   \n",
       "\n",
       "      calculated_host_listings_count  availability_365  number_of_reviews_ltm  \\\n",
       "id                                                                              \n",
       "958                                1               128                     59   \n",
       "5858                               1               365                      0   \n",
       "8142                              13               365                      1   \n",
       "\n",
       "               city  \n",
       "id                   \n",
       "958   San Francisco  \n",
       "5858  San Francisco  \n",
       "8142  San Francisco  "
      ]
     },
     "metadata": {},
     "output_type": "display_data"
    }
   ],
   "source": [
    "cwd = os.getcwd()\n",
    "\n",
    "data_folder = os.path.join(cwd, 'data\\\\mid_processing')\n",
    "\n",
    "file_path = os.path.join(data_folder, 'AB_US_2023_DATA_CLEANED.csv')\n",
    "data_processed = pd.read_csv(file_path, sep=\",\", dtype={'neighbourhood_group': 'str'}, low_memory=False,index_col='id')\n",
    "\n",
    "data_processed = data_processed.copy()\n",
    "display(data_processed.head(3))"
   ]
  },
  {
   "cell_type": "markdown",
   "id": "d2f2ec94bab81012",
   "metadata": {
    "collapsed": false
   },
   "source": [
    "### (b) Encoding"
   ]
  },
  {
   "cell_type": "code",
   "execution_count": null,
   "id": "73a9e2ce37eae8ab",
   "metadata": {
    "ExecuteTime": {
     "end_time": "2024-12-14T18:43:20.978896500Z",
     "start_time": "2024-12-14T18:41:22.836828400Z"
    },
    "collapsed": false
   },
   "outputs": [
    {
     "name": "stdout",
     "output_type": "stream",
     "text": [
      "                                                                 name  \\\n",
      "id                                                                      \n",
      "958                             Bright, Modern Garden Unit - 1BR/1BTH   \n",
      "5858                                               Creative Sanctuary   \n",
      "8142                Friendly Room Apt. Style -UCSF/USF - San Franc...   \n",
      "8339                                  Historic Alamo Square Victorian   \n",
      "8739                              Mission Sunshine, with Private Bath   \n",
      "...                                                               ...   \n",
      "849230448624862502  Private Half Moon Bay Oasis By Pillar Point Be...   \n",
      "850805127216414630                                      Home near SFO   \n",
      "851562104616413652                   Modern New Private Studio in SFO   \n",
      "851792795339759410            Lux Bedroom with a Shared Bath near SFO   \n",
      "851801296770555568             Lux Bedroom with Private Bath near SFO   \n",
      "\n",
      "                      host_id neighbourhood   latitude   longitude  \\\n",
      "id                                                                   \n",
      "958                      1169         94117  37.770280 -122.433170   \n",
      "5858                     8904         94110  37.744740 -122.420890   \n",
      "8142                    21994         94117  37.765550 -122.452130   \n",
      "8339                    24215         94117  37.775640 -122.436420   \n",
      "8739                     7149         94110  37.760300 -122.421970   \n",
      "...                       ...           ...        ...         ...   \n",
      "849230448624862502   29395385         94018  37.506164 -122.476188   \n",
      "850805127216414630  440957696         94066  37.623630 -122.426570   \n",
      "851562104616413652   41574587         94080  37.655661 -122.413130   \n",
      "851792795339759410   73133543         94080  37.644792 -122.454213   \n",
      "851801296770555568   73133543         94080  37.642655 -122.452391   \n",
      "\n",
      "                          room_type  price  minimum_nights  number_of_reviews  \\\n",
      "id                                                                              \n",
      "958                 Entire home/apt    202               2                383   \n",
      "5858                Entire home/apt    235              30                111   \n",
      "8142                   Private room     56              32                  9   \n",
      "8339                Entire home/apt    575               9                 28   \n",
      "8739                   Private room    110               1                770   \n",
      "...                             ...    ...             ...                ...   \n",
      "849230448624862502  Entire home/apt    389               2                  0   \n",
      "850805127216414630  Entire home/apt    158               1                  0   \n",
      "851562104616413652  Entire home/apt     97               1                  0   \n",
      "851792795339759410     Private room     62               2                  0   \n",
      "851801296770555568     Private room     85               2                  0   \n",
      "\n",
      "                   last_review  reviews_per_month  \\\n",
      "id                                                  \n",
      "958                 2023-02-19               2.31   \n",
      "5858                2017-08-06               0.66   \n",
      "8142                2022-10-27               0.09   \n",
      "8339                2019-06-28               0.17   \n",
      "8739                2023-02-25               4.65   \n",
      "...                        ...                ...   \n",
      "849230448624862502           0               0.00   \n",
      "850805127216414630           0               0.00   \n",
      "851562104616413652           0               0.00   \n",
      "851792795339759410           0               0.00   \n",
      "851801296770555568           0               0.00   \n",
      "\n",
      "                    calculated_host_listings_count  availability_365  \\\n",
      "id                                                                     \n",
      "958                                              1               128   \n",
      "5858                                             1               365   \n",
      "8142                                            13               365   \n",
      "8339                                             2               365   \n",
      "8739                                             2               159   \n",
      "...                                            ...               ...   \n",
      "849230448624862502                               1               365   \n",
      "850805127216414630                               1               364   \n",
      "851562104616413652                              32               359   \n",
      "851792795339759410                               3                67   \n",
      "851801296770555568                               3                69   \n",
      "\n",
      "                    number_of_reviews_ltm              city  \n",
      "id                                                           \n",
      "958                                    59     San Francisco  \n",
      "5858                                    0     San Francisco  \n",
      "8142                                    1     San Francisco  \n",
      "8339                                    0     San Francisco  \n",
      "8739                                   34     San Francisco  \n",
      "...                                   ...               ...  \n",
      "849230448624862502                      0  San Mateo County  \n",
      "850805127216414630                      0  San Mateo County  \n",
      "851562104616413652                      0  San Mateo County  \n",
      "851792795339759410                      0  San Mateo County  \n",
      "851801296770555568                      0  San Mateo County  \n",
      "\n",
      "[232067 rows x 15 columns] id\n",
      "958                   94117\n",
      "5858                  94110\n",
      "8142                  94117\n",
      "8339                  94117\n",
      "8739                  94110\n",
      "                      ...  \n",
      "849230448624862502    94018\n",
      "850805127216414630    94066\n",
      "851562104616413652    94080\n",
      "851792795339759410    94080\n",
      "851801296770555568    94080\n",
      "Name: neighbourhood, Length: 232067, dtype: object\n",
      "int64\n"
     ]
    }
   ],
   "source": [
    "warnings.filterwarnings(\"ignore\", category=ShapelyDeprecationWarning)\n",
    "\n",
    "zcta_shapefile_path = r'PATH_TO_DOWNLOADED_FILE_tl_2024_us_zcta520.shp'\n",
    "zcta = gpd.read_file(zcta_shapefile_path)\n",
    "zcta = zcta.to_crs(epsg=4326)\n",
    "zcta.sindex\n",
    "\n",
    "\n",
    "def get_zip_code(latitude, longitude):\n",
    "    try:\n",
    "        # point object or long / lat parameters\n",
    "        point = Point(longitude, latitude)\n",
    "        possible_matches_index = list(zcta.sindex.intersection(point.bounds))\n",
    "        possible_matches = zcta.iloc[possible_matches_index]\n",
    "\n",
    "        # identify point in dataset\n",
    "        for idx, row in possible_matches.iterrows():\n",
    "            if row['geometry'].contains(point):\n",
    "                return row['ZCTA5CE20']  # return zipcode\n",
    "\n",
    "        # error handling\n",
    "        return None\n",
    "    except Exception as e:\n",
    "        print(f\"Error processing point ({latitude}, {longitude}): {e}\")\n",
    "        return None\n",
    "    \n",
    "\n",
    "data_processed['neighbourhood'] = data_processed.apply(lambda row: get_zip_code(row['latitude'], row['longitude']), axis=1)\n",
    "print(data_processed, data_processed['neighbourhood'])\n",
    "data_processed['neighbourhood'] = pd.to_numeric(data_processed['neighbourhood'])\n",
    "data_processed['neighbourhood'] = data_processed['neighbourhood'].fillna(-1)  # Replace NaN with -1\n",
    "data_processed['neighbourhood'] = data_processed['neighbourhood'].astype(int)\n",
    "\n",
    "\n",
    "data_processed = data_processed[data_processed['neighbourhood'] != -1]\n",
    "\n",
    "print(data_processed['neighbourhood'].dtype)\n",
    "\n"
   ]
  },
  {
   "cell_type": "markdown",
   "id": "452a7a5f6e69eb12",
   "metadata": {
    "collapsed": false
   },
   "source": [
    "### (c) Saving Encoded Data"
   ]
  },
  {
   "cell_type": "code",
   "execution_count": null,
   "id": "abd40b68da967ee2",
   "metadata": {
    "ExecuteTime": {
     "end_time": "2024-12-14T18:38:48.859061100Z",
     "start_time": "2024-12-14T18:38:47.503063300Z"
    },
    "collapsed": false
   },
   "outputs": [],
   "source": [
    "data_processed.to_csv(r'PATH_TO_FILE\\AB_US_2023_PROCESSED.csv')\n"
   ]
  },
  {
   "cell_type": "code",
   "execution_count": 21,
   "id": "b26672d99ed9e85d",
   "metadata": {
    "ExecuteTime": {
     "end_time": "2024-12-14T18:43:39.273514900Z",
     "start_time": "2024-12-14T18:43:37.882515900Z"
    },
    "collapsed": false
   },
   "outputs": [],
   "source": [
    "# Please DO NOT use this if you do not have the ZCTA data \n",
    "#data_processed.to_csv(r'C:\\Users\\Noah\\PycharmProjects\\BusinessIntelligence_Submission\\data\\AB_US_2023_TEMPLATE.csv')\n"
   ]
  }
 ],
 "metadata": {
  "kernelspec": {
   "display_name": "Python 3",
   "language": "python",
   "name": "python3"
  },
  "language_info": {
   "codemirror_mode": {
    "name": "ipython",
    "version": 3
   },
   "file_extension": ".py",
   "mimetype": "text/x-python",
   "name": "python",
   "nbconvert_exporter": "python",
   "pygments_lexer": "ipython3",
   "version": "3.12.7"
  }
 },
 "nbformat": 4,
 "nbformat_minor": 5
}
