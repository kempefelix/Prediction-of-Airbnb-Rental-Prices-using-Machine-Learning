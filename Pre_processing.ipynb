{
 "cells": [
  {
   "cell_type": "markdown",
   "id": "12af073338bbcbdd",
   "metadata": {
    "collapsed": false
   },
   "source": [
    "## Business Intelligence Assignment 2: Data Analytics"
   ]
  },
  {
   "cell_type": "markdown",
   "id": "521817f83eb4e2b2",
   "metadata": {
    "collapsed": false
   },
   "source": [
    "### (2) Data Pre-processing"
   ]
  },
  {
   "cell_type": "code",
   "execution_count": 2,
   "id": "initial_id",
   "metadata": {
    "ExecuteTime": {
     "end_time": "2024-12-14T17:03:11.838631300Z",
     "start_time": "2024-12-14T17:03:08.173789400Z"
    },
    "collapsed": true
   },
   "outputs": [],
   "source": [
    "import pandas as pd\n",
    "from sklearn.preprocessing import LabelEncoder\n",
    "import os"
   ]
  },
  {
   "cell_type": "markdown",
   "id": "59579a94f387afa4",
   "metadata": {
    "collapsed": false
   },
   "source": [
    "### (a) Loading Data"
   ]
  },
  {
   "cell_type": "code",
   "execution_count": null,
   "id": "c1843fff3b37f285",
   "metadata": {
    "ExecuteTime": {
     "end_time": "2024-12-14T17:03:12.559633Z",
     "start_time": "2024-12-14T17:03:11.839635200Z"
    },
    "collapsed": false
   },
   "outputs": [
    {
     "name": "stdout",
     "output_type": "stream",
     "text": [
      "Index(['id', 'name', 'host_id', 'host_name', 'neighbourhood_group',\n",
      "       'neighbourhood', 'latitude', 'longitude', 'room_type', 'price',\n",
      "       'minimum_nights', 'number_of_reviews', 'last_review',\n",
      "       'reviews_per_month', 'calculated_host_listings_count',\n",
      "       'availability_365', 'number_of_reviews_ltm', 'city'],\n",
      "      dtype='object')\n"
     ]
    }
   ],
   "source": [
    "cwd = os.getcwd()\n",
    "\n",
    "data_folder = os.path.join(cwd, 'data\\\\raw_data')\n",
    "\n",
    "file_path = os.path.join(data_folder, 'AB_US_2023.csv')\n",
    "df_base = pd.read_csv(file_path, sep=\",\", dtype={'neighbourhood_group': 'str'}, low_memory=False)\n",
    "\n",
    "print(df_base.columns)"
   ]
  },
  {
   "cell_type": "markdown",
   "id": "a335c5d37f411ce2",
   "metadata": {
    "collapsed": false
   },
   "source": [
    "### (b) Processing"
   ]
  },
  {
   "cell_type": "code",
   "execution_count": 3,
   "id": "d02cf6deeb5b9855",
   "metadata": {
    "ExecuteTime": {
     "end_time": "2024-12-14T17:03:12.569632500Z",
     "start_time": "2024-12-14T17:03:12.556634500Z"
    },
    "collapsed": false
   },
   "outputs": [],
   "source": [
    "def pre_processing(data : pd.DataFrame):\n",
    "    \n",
    "    data = pd.read_csv(file_path, sep=\",\", dtype={'neighbourhood_group': 'str'}, low_memory=False)\n",
    "    data.drop(columns='host_name', inplace=True)  # Drop useless columns\n",
    "    data.drop(columns='neighbourhood_group', inplace=True)\n",
    "    # Fill columns with 0 where there are no reviews\n",
    "    data[['last_review', 'reviews_per_month']] = data[['last_review', 'reviews_per_month']].fillna(value=0)\n",
    "    data['name'] = data['name'].fillna(value='-')  # Fill empty descriptions with -\n",
    "    data_price_outlier = data[data['price'] < 5]  # detect and handle price outliers\n",
    "    # Apply drop by using index of filtered Dataframe (applying frame on its own does not work, only index works)\n",
    "    data.drop(data_price_outlier.index, inplace=True)\n",
    "\n",
    "    # Handling duplicate IDs\n",
    "    # duplicate Listing IDs resemble an actual listing mistake, will retain the one with more information\n",
    "    data_duplicate = data[data['id'].duplicated()].index\n",
    "    data.drop(data_duplicate, inplace=True)\n",
    "    data.set_index('id', inplace=True)\n",
    "    \n",
    "    \n",
    "    return data\n"
   ]
  },
  {
   "cell_type": "code",
   "execution_count": 4,
   "id": "705b23fc380d1904",
   "metadata": {
    "ExecuteTime": {
     "end_time": "2024-12-14T17:03:13.363644Z",
     "start_time": "2024-12-14T17:03:12.571635300Z"
    },
    "collapsed": false
   },
   "outputs": [],
   "source": [
    "data_cleaned = pre_processing(df_base)"
   ]
  },
  {
   "cell_type": "markdown",
   "id": "e407615df5bed957",
   "metadata": {
    "collapsed": false
   },
   "source": [
    "### (c) Saving Processed Data "
   ]
  },
  {
   "cell_type": "code",
   "execution_count": 6,
   "id": "5f0e8da2331b0bde",
   "metadata": {
    "ExecuteTime": {
     "end_time": "2024-12-14T17:03:14.742643700Z",
     "start_time": "2024-12-14T17:03:13.382643700Z"
    },
    "collapsed": false
   },
   "outputs": [],
   "source": [
    "# data_cleaned.to_csv(r'C:\\TU WIEN\\SS25\\Data Stewardship\\Part 2\\data\\mid_processing\\AB_US_2023_DATA_CLEANED.csv')"
   ]
  }
 ],
 "metadata": {
  "kernelspec": {
   "display_name": "Python 3",
   "language": "python",
   "name": "python3"
  },
  "language_info": {
   "codemirror_mode": {
    "name": "ipython",
    "version": 3
   },
   "file_extension": ".py",
   "mimetype": "text/x-python",
   "name": "python",
   "nbconvert_exporter": "python",
   "pygments_lexer": "ipython3",
   "version": "3.12.7"
  }
 },
 "nbformat": 4,
 "nbformat_minor": 5
}
